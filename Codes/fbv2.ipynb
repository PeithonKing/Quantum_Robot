{
 "cells": [
  {
   "cell_type": "code",
   "execution_count": 7,
   "metadata": {},
   "outputs": [],
   "source": [
    "from qiskit import *\n",
    "from qiskit.visualization import *"
   ]
  },
  {
   "cell_type": "code",
   "execution_count": 8,
   "metadata": {},
   "outputs": [],
   "source": [
    "old_qc = QuantumCircuit\n",
    "del QuantumCircuit\n",
    "\n",
    "# Define some custom custom gates\n",
    "class QuantumCircuit(old_qc):\n",
    "    def __init__(self, *args, **kwargs):\n",
    "        super().__init__(*args, **kwargs)\n",
    "        self.qc = self\n",
    "\n",
    "    def anti_ccx(self, control_qubit1, control_qubit2, target_qubit1):\n",
    "        self.barrier(self.qubits)\n",
    "        self.x(control_qubit1)\n",
    "        self.x(control_qubit2)\n",
    "        self.ccx(control_qubit1, control_qubit2, target_qubit1)\n",
    "        self.x(control_qubit1)\n",
    "        self.x(control_qubit2)\n",
    "        self.barrier(self.qubits)\n",
    "\n",
    "    def ccxx(self, control_qubit1, control_qubit2, target_qubit1, target_qubit2):\n",
    "        self.barrier(self.qubits)\n",
    "        self.ccx(control_qubit1, control_qubit2, target_qubit1)\n",
    "        self.ccx(control_qubit1, control_qubit2, target_qubit2)\n",
    "        self.barrier(self.qubits)\n",
    "\n",
    "    def anti_ccxx(self, control_qubit1, control_qubit2, target_qubit1, target_qubit2):\n",
    "        self.barrier(self.qubits)\n",
    "        self.x(control_qubit1)\n",
    "        self.x(control_qubit2)\n",
    "        self.ccx(control_qubit1, control_qubit2, target_qubit1)\n",
    "        self.ccx(control_qubit1, control_qubit2, target_qubit2)\n",
    "        self.x(control_qubit1)\n",
    "        self.x(control_qubit2)\n",
    "        self.barrier(self.qubits)\n",
    "    \n",
    "    def measure_all(self, q = None, c = None):\n",
    "        if not q:\n",
    "            q = self.qubits\n",
    "        if not c:\n",
    "            c = self.clbits\n",
    "        n = len(q)\n",
    "        self.barrier(self.qubits)\n",
    "        for i in range(n):\n",
    "            self.measure(q[i], c[n-i-1])"
   ]
  },
  {
   "cell_type": "code",
   "execution_count": 9,
   "metadata": {},
   "outputs": [],
   "source": [
    "q = QuantumRegister(3, 'motor')\n",
    "c = ClassicalRegister(3, 'read')\n",
    "circuit = QuantumCircuit(q, c)"
   ]
  },
  {
   "cell_type": "code",
   "execution_count": 10,
   "metadata": {},
   "outputs": [
    {
     "data": {
      "text/plain": [
       "<qiskit.circuit.instructionset.InstructionSet at 0x1ccde9d1140>"
      ]
     },
     "execution_count": 10,
     "metadata": {},
     "output_type": "execute_result"
    }
   ],
   "source": [
    "ket_0 = [1, 0]\n",
    "ket_1 = [0, 1]\n",
    "\n",
    "# Demonstrating with sensor = |10>  Feel free to try with other 3 states (|00>, |01> and |11>) too.\n",
    "quantumRead = [ket_0, ket_0]  # Similar to the digitalRead or analogRead functions of Arduino\n",
    "circuit.initialize(quantumRead[0], [q[0]])\n",
    "circuit.initialize(quantumRead[1], [q[1]])"
   ]
  },
  {
   "cell_type": "code",
   "execution_count": 11,
   "metadata": {},
   "outputs": [
    {
     "data": {
      "image/png": "[encoded data removed]",
      "text/plain": [
       "<Figure size 737.778x264.88 with 1 Axes>"
      ]
     },
     "execution_count": 11,
     "metadata": {},
     "output_type": "execute_result"
    }
   ],
   "source": [
    "# circuit.h(q[0])\n",
    "# circuit.h(q[1])\n",
    "\n",
    "circuit.cx(q[1], q[0])\n",
    "circuit.cx(q[0], q[1])\n",
    "circuit.cx(q[1], q[0])\n",
    "circuit.ccx(q[0], q[1], q[2])\n",
    "circuit.x(q[0])\n",
    "circuit.x(q[1])\n",
    "circuit.measure_all()\n",
    "circuit.draw(output=\"mpl\")"
   ]
  },
  {
   "cell_type": "code",
   "execution_count": 13,
   "metadata": {},
   "outputs": [
    {
     "data": {
      "text/plain": [
       "['110']"
      ]
     },
     "execution_count": 13,
     "metadata": {},
     "output_type": "execute_result"
    }
   ],
   "source": [
    "comp = Aer.get_backend(\"qasm_simulator\")\n",
    "results = execute(circuit, comp).result()\n",
    "# plot_histogram(results.get_counts(circuit))\n",
    "list(results.get_counts(circuit).keys())"
   ]
  }
 ],
 "metadata": {
  "kernelspec": {
   "display_name": "Python 3 (ipykernel)",
   "language": "python",
   "name": "python3"
  },
  "language_info": {
   "codemirror_mode": {
    "name": "ipython",
    "version": 3
   },
   "file_extension": ".py",
   "mimetype": "text/x-python",
   "name": "python",
   "nbconvert_exporter": "python",
   "pygments_lexer": "ipython3",
   "version": "3.9.13"
  },
  "vscode": {
   "interpreter": {
    "hash": "c1bf89dd8c41cd4c656ef84ab703e52e1eeed051e4ee1d73acb7030c20435465"
   }
  },
  "widgets": {
   "application/vnd.jupyter.widget-state+json": {
    "state": {},
    "version_major": 2,
    "version_minor": 0
   }
  }
 },
 "nbformat": 4,
 "nbformat_minor": 4
}

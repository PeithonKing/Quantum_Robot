{
 "cells": [
  {
   "cell_type": "code",
   "execution_count": null,
   "metadata": {},
   "outputs": [],
   "source": [
    "from qiskit import *\n",
    "from qiskit.visualization import plot_histogram"
   ]
  },
  {
   "cell_type": "code",
   "execution_count": null,
   "metadata": {},
   "outputs": [],
   "source": [
    "# Making the Qiskit Classes:\n",
    "qreg_s1_to_m2 = QuantumRegister(1, 's1_to_m2')\n",
    "qreg_s2_to_m1 = QuantumRegister(1, 's2_to_m1')\n",
    "qreg_to_m3 = QuantumRegister(1, 'to_m3')\n",
    "creg_measurements = ClassicalRegister(3, 'measurements')\n",
    "circuit = QuantumCircuit(\n",
    "    qreg_s1_to_m2,\n",
    "    qreg_s2_to_m1,\n",
    "    qreg_to_m3,\n",
    "    creg_measurements\n",
    "    )\n",
    "\n",
    "# Initializing the Circuit:\n",
    "ket_0 = [1, 0]\n",
    "ket_1 = [0, 1]\n",
    "quantumRead = [ket_1, ket_0]   # |10>\n",
    "\n",
    "circuit.initialize(quantumRead[0], [qreg_s1_to_m2[0]])\n",
    "circuit.initialize(quantumRead[1], [qreg_s2_to_m1[0]])\n",
    "\n",
    "# Designing the circuit\n",
    "circuit.ccx(qreg_s1_to_m2[0], qreg_s2_to_m1[0], qreg_to_m3[0])\n",
    "circuit.x(qreg_s1_to_m2[0])\n",
    "circuit.x(qreg_s2_to_m1[0])\n",
    "circuit.barrier()\n",
    "circuit.measure(qreg_to_m3[0], creg_measurements[0])\n",
    "circuit.measure(qreg_s1_to_m2[0], creg_measurements[1])\n",
    "circuit.measure(qreg_s2_to_m1[0], creg_measurements[2])\n",
    "circuit.draw(output = 'mpl')"
   ]
  },
  {
   "cell_type": "code",
   "execution_count": null,
   "metadata": {},
   "outputs": [],
   "source": [
    "comp = Aer.get_backend(\"qasm_simulator\")\n",
    "results = execute(circuit, comp).result()\n",
    "# plot_histogram(results.get_counts(circuit))\n",
    "list(results.get_counts(circuit).keys())"
   ]
  },
  {
   "cell_type": "code",
   "execution_count": null,
   "metadata": {},
   "outputs": [],
   "source": [
    "from qiskit.providers.ibmq import least_busy\n",
    "from qiskit.tools.monitor import job_monitor\n",
    "from qiskit.providers.ibmq.ibmqbackend import IBMQSimulator\n",
    "IBMQ.load_account()"
   ]
  },
  {
   "cell_type": "code",
   "execution_count": null,
   "metadata": {},
   "outputs": [],
   "source": [
    "provider = IBMQ.get_provider('ibm-q')\n",
    "quantum_backends = [x for x in provider.backends() if type(x) != IBMQSimulator]\n",
    "q_comp = least_busy(quantum_backends)\n",
    "print(f\"running on '{q_comp.name()}'\")"
   ]
  },
  {
   "cell_type": "code",
   "execution_count": null,
   "metadata": {},
   "outputs": [],
   "source": [
    "job = execute(circuit, q_comp, shots = 16384)\n",
    "job_monitor(job)\n",
    "print(\"results:\", job.result().get_counts(circuit))\n",
    "plot_histogram(job.result().get_counts(circuit))"
   ]
  }
 ],
 "metadata": {
  "kernelspec": {
   "display_name": "Python 3.9.13 64-bit (windows store)",
   "language": "python",
   "name": "python3"
  },
  "language_info": {
   "codemirror_mode": {
    "name": "ipython",
    "version": 3
   },
   "file_extension": ".py",
   "mimetype": "text/x-python",
   "name": "python",
   "nbconvert_exporter": "python",
   "pygments_lexer": "ipython3",
   "version": "3.9.13"
  },
  "vscode": {
   "interpreter": {
    "hash": "95b59b4b0e72d3e94105c3ab4f1a1e6e746e4c2a7c235241251baf92fb36381f"
   }
  },
  "widgets": {
   "application/vnd.jupyter.widget-state+json": {
    "state": {},
    "version_major": 2,
    "version_minor": 0
   }
  }
 },
 "nbformat": 4,
 "nbformat_minor": 4
}

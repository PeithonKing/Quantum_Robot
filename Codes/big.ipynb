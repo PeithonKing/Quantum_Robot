{
 "cells": [
  {
   "cell_type": "code",
   "execution_count": null,
   "metadata": {},
   "outputs": [],
   "source": [
    "from qiskit import *\n",
    "from qiskit.visualization import *"
   ]
  },
  {
   "cell_type": "code",
   "execution_count": null,
   "metadata": {},
   "outputs": [],
   "source": [
    "qreg_q = QuantumRegister(5, 'q')\n",
    "creg_c = ClassicalRegister(3, 'c')\n",
    "circuit = QuantumCircuit(qreg_q, creg_c)"
   ]
  },
  {
   "cell_type": "code",
   "execution_count": null,
   "metadata": {},
   "outputs": [],
   "source": [
    "circuit.cx(qreg_q[2], qreg_q[0])\n",
    "circuit.cx(qreg_q[3], qreg_q[1])\n",
    "circuit.h(qreg_q[2])\n",
    "circuit.h(qreg_q[3])\n",
    "circuit.cx(qreg_q[1], qreg_q[3])\n",
    "circuit.cx(qreg_q[1], qreg_q[2])\n",
    "circuit.tdg(qreg_q[3])\n",
    "circuit.tdg(qreg_q[2])\n",
    "circuit.cx(qreg_q[0], qreg_q[3])\n",
    "circuit.cx(qreg_q[0], qreg_q[2])\n",
    "circuit.t(qreg_q[3])\n",
    "circuit.t(qreg_q[2])\n",
    "circuit.cx(qreg_q[1], qreg_q[3])\n",
    "circuit.cx(qreg_q[1], qreg_q[2])\n",
    "circuit.tdg(qreg_q[3])\n",
    "circuit.tdg(qreg_q[2])\n",
    "circuit.cx(qreg_q[0], qreg_q[3])\n",
    "circuit.cx(qreg_q[0], qreg_q[2])\n",
    "circuit.t(qreg_q[3])\n",
    "circuit.tdg(qreg_q[1])\n",
    "circuit.t(qreg_q[2])\n",
    "circuit.cx(qreg_q[0], qreg_q[1])\n",
    "circuit.tdg(qreg_q[1])\n",
    "circuit.cx(qreg_q[0], qreg_q[1])\n",
    "circuit.t(qreg_q[0])\n",
    "circuit.s(qreg_q[1])\n",
    "circuit.x(qreg_q[1])\n",
    "circuit.cx(qreg_q[1], qreg_q[3])\n",
    "circuit.x(qreg_q[0])\n",
    "circuit.cx(qreg_q[1], qreg_q[2])\n",
    "circuit.tdg(qreg_q[3])\n",
    "circuit.x(qreg_q[1])\n",
    "circuit.tdg(qreg_q[2])\n",
    "circuit.cx(qreg_q[0], qreg_q[3])\n",
    "circuit.cx(qreg_q[0], qreg_q[2])\n",
    "circuit.t(qreg_q[3])\n",
    "circuit.x(qreg_q[1])\n",
    "circuit.t(qreg_q[2])\n",
    "circuit.cx(qreg_q[1], qreg_q[3])\n",
    "circuit.cx(qreg_q[1], qreg_q[2])\n",
    "circuit.tdg(qreg_q[3])\n",
    "circuit.x(qreg_q[1])\n",
    "circuit.tdg(qreg_q[2])\n",
    "circuit.cx(qreg_q[0], qreg_q[3])\n",
    "circuit.cx(qreg_q[0], qreg_q[2])\n",
    "circuit.t(qreg_q[3])\n",
    "circuit.tdg(qreg_q[1])\n",
    "circuit.t(qreg_q[2])\n",
    "circuit.h(qreg_q[3])\n",
    "circuit.h(qreg_q[4])\n",
    "circuit.cx(qreg_q[0], qreg_q[1])\n",
    "circuit.h(qreg_q[2])\n",
    "circuit.x(qreg_q[3])\n",
    "circuit.tdg(qreg_q[1])\n",
    "circuit.x(qreg_q[2])\n",
    "circuit.cx(qreg_q[3], qreg_q[4])\n",
    "circuit.cx(qreg_q[0], qreg_q[1])\n",
    "circuit.x(qreg_q[3])\n",
    "circuit.tdg(qreg_q[4])\n",
    "circuit.x(qreg_q[0])\n",
    "circuit.s(qreg_q[1])\n",
    "circuit.cx(qreg_q[2], qreg_q[4])\n",
    "circuit.t(qreg_q[0])\n",
    "circuit.x(qreg_q[3])\n",
    "circuit.t(qreg_q[4])\n",
    "circuit.cx(qreg_q[3], qreg_q[4])\n",
    "circuit.x(qreg_q[3])\n",
    "circuit.tdg(qreg_q[4])\n",
    "circuit.cx(qreg_q[2], qreg_q[4])\n",
    "circuit.tdg(qreg_q[3])\n",
    "circuit.t(qreg_q[4])\n",
    "circuit.cx(qreg_q[2], qreg_q[3])\n",
    "circuit.h(qreg_q[4])\n",
    "circuit.tdg(qreg_q[3])\n",
    "circuit.cx(qreg_q[2], qreg_q[3])\n",
    "circuit.x(qreg_q[2])\n",
    "circuit.t(qreg_q[2])\n",
    "circuit.s(qreg_q[3])\n",
    "circuit.measure(qreg_q[4], creg_c[0])\n",
    "circuit.measure(qreg_q[3], creg_c[1])\n",
    "circuit.measure(qreg_q[2], creg_c[2])\n",
    "circuit.draw(output = \"mpl\")"
   ]
  },
  {
   "cell_type": "code",
   "execution_count": null,
   "metadata": {},
   "outputs": [],
   "source": [
    "comp = Aer.get_backend(\"qasm_simulator\")\n",
    "results = execute(circuit, comp).result()\n",
    "plot_histogram(results.get_counts(circuit))"
   ]
  }
 ],
 "metadata": {
  "kernelspec": {
   "display_name": "Python 3.10.4 64-bit",
   "language": "python",
   "name": "python3"
  },
  "language_info": {
   "codemirror_mode": {
    "name": "ipython",
    "version": 3
   },
   "file_extension": ".py",
   "mimetype": "text/x-python",
   "name": "python",
   "nbconvert_exporter": "python",
   "pygments_lexer": "ipython3",
   "version": "3.10.4"
  },
  "orig_nbformat": 4,
  "vscode": {
   "interpreter": {
    "hash": "e7370f93d1d0cde622a1f8e1c04877d8463912d04d973331ad4851f04de6915a"
   }
  }
 },
 "nbformat": 4,
 "nbformat_minor": 2
}
